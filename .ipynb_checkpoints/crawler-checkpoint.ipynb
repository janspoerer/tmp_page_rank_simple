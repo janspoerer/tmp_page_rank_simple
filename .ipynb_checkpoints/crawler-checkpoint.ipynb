{
 "cells": [
  {
   "cell_type": "markdown",
   "metadata": {},
   "source": [
    "This Notebook crawls all Investopedia articles and returns a matrix representation of the link relationships between articles. This matrix will be used for the PageRank in another Notebook.\n",
    "\n",
    "Input: The root domain of the Investopedia web page. The input stays the same and will not be user-defined. Other pages that Investopedia will most likely not work with this crawler as this crawler is specifically designed for Investopedia articles.\n",
    "\n",
    "Output: A matrix prepresentation of a graph network (with only 0s and 1). The graph represents the relationships between Investopedia articles. All relationships are one-way relationships. A relationship from article A to article B is defined as A having a link that leads to article B."
   ]
  },
  {
   "cell_type": "code",
   "execution_count": 172,
   "metadata": {},
   "outputs": [],
   "source": [
    "from selenium import webdriver\n",
    "from selenium.webdriver.common.keys import Keys\n",
    "import urllib.request\n",
    "from bs4 import BeautifulSoup\n",
    "# For sleeper\n",
    "import time\n",
    "# For random sleeper times\n",
    "import random\n",
    "# For decimal numbers\n",
    "import decimal\n",
    "# For permanent disk storage of results as CSV\n",
    "import csv\n",
    "\n",
    "from selenium.common.exceptions import NoSuchElementException"
   ]
  },
  {
   "cell_type": "code",
   "execution_count": 173,
   "metadata": {},
   "outputs": [],
   "source": [
    "# Please change this link\n",
    "driver = webdriver.Chrome(\"/home/janspoerer/code/janspoerer/page_rank_simple/chromedriver\")\n",
    "\n",
    "root_investopedia_url = \"https://www.investopedia.com/dictionary/\"\n",
    "sleeper_time = 1.5"
   ]
  },
  {
   "cell_type": "code",
   "execution_count": 174,
   "metadata": {
    "scrolled": true
   },
   "outputs": [],
   "source": [
    "def map_and_write_link_to_matrix_position(link, matrix):\n",
    "    pass \n",
    "    return matrix\n",
    "\n",
    "def get_all_links_from_article():\n",
    "    pass\n",
    "\n",
    "def open_article(article_link):\n",
    "    pass\n",
    "\n",
    "def get_all_article_links_from_overview():\n",
    "    list_with_articles_from_this_page = []\n",
    "    article_elements = driver.find_elements_by_css_selector(\".item-title a\")\n",
    "    for article_element in article_elements:\n",
    "        list_with_articles_from_this_page.append(article_element.get_attribute(\"href\"))\n",
    "    print(\"Return of get_all_article_links_from_overview \\n \", list_with_articles_from_this_page)\n",
    "    return list_with_articles_from_this_page\n",
    "    \n",
    "def go_to_next_letter(letter_counter):\n",
    "    \"\"\" This method switches the browser to the next\n",
    "    letter within the \n",
    "    \n",
    "    \"\"\"\n",
    "    pass\n",
    "\n",
    "def open_link_and_select_window(link):\n",
    "    time.sleep(sleeper_time)\n",
    "    driver.execute_script(\"window.open('');\")\n",
    "    driver.switch_to.window(driver.window_handles[-1])\n",
    "    driver.get(link)\n",
    "    time.sleep(sleeper_time)\n",
    "    return\n",
    "    \n",
    "def get_all_article_urls(root_investopdia_url):\n",
    "    list_all_urls = []\n",
    "    \n",
    "    # Open article overview (high-level overview with\n",
    "    # list of available categories sorted by starting\n",
    "    # letter of the article)\n",
    "    driver.get(root_investopedia_url)\n",
    "    \n",
    "    letter_elements = driver.find_elements_by_css_selector(\".alphabet a\")\n",
    "    \n",
    "    letter_links = []\n",
    "    for letter_element in letter_elements:\n",
    "        letter_links.append(letter_element.get_attribute(\"href\"))\n",
    "\n",
    "    for letter_link in letter_links:\n",
    "        open_link_and_select_window(letter_link)    \n",
    "        \n",
    "        # Some letters do not have several pages (because\n",
    "        # there are only few results). If this is the case,\n",
    "        # the article links are scraped right away without\n",
    "        # looping through (inexistent) sub-pages.\n",
    "        try:\n",
    "            ########### Todo: Make this smarter. Only use links that actually lead somewhere\n",
    "            # And loop through all links\n",
    "            \n",
    "            \n",
    "            # This selects only the element that points to the last page\n",
    "            # for this letter. This allows us to set an upper boundary\n",
    "            # for our loop. We will stop our loop when this is reached.\n",
    "            last_element_number = driver.find_element_by_css_selector(\".layout-content div:nth-child(1) .ellipsis+ li .btn\").text\n",
    "        except NoSuchElementException:\n",
    "            # Open, read links, and close\n",
    "            print(\"List all URLs: \", list_all_urls)\n",
    "            list_all_urls = list_all_urls + get_all_article_links_from_overview()\n",
    "        else:\n",
    "            page_links = []\n",
    "            for element_number in (1, last_element_number):\n",
    "                page_links.append(letter_link + \"/\" + str(element_number))\n",
    "            \n",
    "            for page_link in page_links:\n",
    "                # Open, read links, and close\n",
    "                open_link_and_select_window(page_link)\n",
    "                list_all_urls = list_all_urls + get_all_article_links_from_overview()\n",
    "                driver.execute_script(\"window.close();\")\n",
    "    \n",
    "    return list_all_urls\n",
    "\n",
    "def run_crawler(root_investopedia_url):\n",
    "    \"\"\"\n",
    "    This Notebook crawls all Investopedia articles and returns a matrix representation of the link relationships between articles. This matrix will be used for the PageRank in another Notebook.\n",
    "\n",
    "    Input: The root url of the Investopedia web page. The input stays the same and will not be user-defined. Other pages that Investopedia will most likely not work with this crawler as this crawler is specifically designed for Investopedia articles.\n",
    "\n",
    "    Output: A matrix prepresentation of a graph network (with only 0s and 1). The graph represents the relationships between Investopedia articles. All relationships are one-way relationships. A relationship from article A to article B is defined as A having a link that leads to article B.\n",
    "    \n",
    "    \n",
    "    Method naming conventions:\n",
    "    \n",
    "    get_... methods instruct the browser\n",
    "    to get information from the current\n",
    "    page.\n",
    "    \n",
    "    go_to_... methods instruct the\n",
    "    browser to retrieve another web page.\n",
    "    \"\"\"\n",
    "    list_all_urls = get_all_article_urls(root_investopedia_url)\n",
    "    \n",
    "    return matrix_representation_of_article_graph"
   ]
  },
  {
   "cell_type": "code",
   "execution_count": 175,
   "metadata": {},
   "outputs": [
    {
     "name": "stdout",
     "output_type": "stream",
     "text": [
      "List all URLs:  []\n",
      "Return of get_all_article_links_from_overview \n",
      "  ['https://www.investopedia.com/terms/j/just-say-no-defense.asp', 'https://www.investopedia.com/terms/1/1-10net30.asp', 'https://www.investopedia.com/terms/1/10-k.asp', 'https://www.investopedia.com/terms/1/10k-wrap.asp', 'https://www.investopedia.com/terms/1/10-yeartreasury.asp', 'https://www.investopedia.com/terms/1/100-equities-strategy.asp', 'https://www.investopedia.com/terms/1/100percentmortgage.asp', 'https://www.investopedia.com/terms/1/1040.asp', 'https://www.investopedia.com/terms/1/1040a.asp', 'https://www.investopedia.com/terms/1/1040pc.asp', 'https://www.investopedia.com/terms/1/cofi.asp', 'https://www.investopedia.com/terms/1/125_loan.asp', 'https://www.investopedia.com/terms/1/12b-1fees.asp', 'https://www.investopedia.com/terms/1/12b-1-fund.asp', 'https://www.investopedia.com/terms/1/12b-1plan.asp', 'https://www.investopedia.com/terms/1/130-30_strategy.asp', 'https://www.investopedia.com/terms/1/130-30-mutual-fund.asp', 'https://www.investopedia.com/terms/1/18hour-city.asp', 'https://www.investopedia.com/terms/1/183-day-rule.asp', 'https://www.investopedia.com/terms/f/1913-federal-reserve-act.asp', 'https://www.investopedia.com/terms/1/1979-energy-crisis.asp', 'https://www.investopedia.com/terms/s/19c3stock.asp', 'https://www.investopedia.com/terms/t/two-percent-rule.asp', 'https://www.investopedia.com/terms/1/2-1_buydown.asp', 'https://www.investopedia.com/terms/2/228arm.asp', 'https://www.investopedia.com/terms/1/2000-investor-limit.asp', 'https://www.investopedia.com/terms/1/2011-debt-ceiling-crisis.asp', 'https://www.investopedia.com/terms/1/25-percent-rule.asp', 'https://www.investopedia.com/terms/t/twenty-eight-thirty-six-rule.asp', 'https://www.investopedia.com/terms/1/3-2-1_buydown.asp', 'https://www.investopedia.com/terms/1/3_6_3_rule.asp', 'https://www.investopedia.com/terms/1/327arm.asp', 'https://www.investopedia.com/terms/1/30-yeartreasury.asp', 'https://www.investopedia.com/terms/1/341-meeting.asp', 'https://www.investopedia.com/terms/1/3c1.asp', 'https://www.investopedia.com/terms/1/3c7.asp', 'https://www.investopedia.com/terms/1/3d-printing.asp', 'https://www.investopedia.com/terms/1/3p.asp', 'https://www.investopedia.com/terms/1/401a-plan.asp', 'https://www.investopedia.com/terms/1/401kplan.asp', 'https://www.investopedia.com/terms/1/403bplan.asp', 'https://www.investopedia.com/terms/1/408-k-plan.asp', 'https://www.investopedia.com/terms/1/412i.asp', 'https://www.investopedia.com/terms/s/section419ewelfarebenefitplan.asp', 'https://www.investopedia.com/terms/1/457plan.asp', 'https://www.investopedia.com/terms/1/48-hour-rule.asp', 'https://www.investopedia.com/terms/f/five-by-five.asp', 'https://www.investopedia.com/terms/1/5-1_arm.asp', 'https://www.investopedia.com/terms/1/5-6_hybrid_arm.asp', 'https://www.investopedia.com/terms/5/500-shareholder-threshold.asp', 'https://www.investopedia.com/terms/1/501c.asp', 'https://www.investopedia.com/terms/1/501c3-organizations.asp', 'https://www.investopedia.com/terms/1/51-attack.asp', 'https://www.investopedia.com/terms/1/52weekhighlow.asp', 'https://www.investopedia.com/terms/1/52-week-range.asp', 'https://www.investopedia.com/terms/1/529plan.asp', 'https://www.investopedia.com/terms/1/529-prepaid-tuition-plan.asp', 'https://www.investopedia.com/terms/1/529-savings-plan.asp', 'https://www.investopedia.com/terms/1/60-plus-delinquencies.asp', 'https://www.investopedia.com/terms/1/8a-firm.asp', 'https://www.investopedia.com/terms/1/8-k.asp', 'https://www.investopedia.com/terms/8/80_10_10_mortgage.asp', 'https://www.investopedia.com/terms/1/80-20-rule.asp', 'https://www.investopedia.com/terms/1/83b-election.asp', 'https://www.investopedia.com/terms/1/90-age-formula.asp', 'https://www.investopedia.com/terms/1/90dayletter.asp', 'https://www.investopedia.com/terms/1/90-10-strategy.asp']\n",
      "Chalo:  <selenium.webdriver.remote.webelement.WebElement (session=\"9ba7e0de9672d74266fd6c8653345d8d\", element=\"0.2440472139371439-1\")>\n",
      "Return of get_all_article_links_from_overview \n",
      "  []\n"
     ]
    },
    {
     "ename": "NoSuchWindowException",
     "evalue": "Message: no such window: window was already closed\n  (Session info: chrome=70.0.3538.77)\n  (Driver info: chromedriver=2.45.615279 (12b89733300bd268cff3b78fc76cb8f3a7cc44e5),platform=Linux 4.15.0-43-generic x86_64)\n",
     "output_type": "error",
     "traceback": [
      "\u001b[0;31m---------------------------------------------------------------------------\u001b[0m",
      "\u001b[0;31mNoSuchWindowException\u001b[0m                     Traceback (most recent call last)",
      "\u001b[0;32m<ipython-input-175-fbed764fa3c8>\u001b[0m in \u001b[0;36m<module>\u001b[0;34m\u001b[0m\n\u001b[0;32m----> 1\u001b[0;31m \u001b[0mrun_crawler\u001b[0m\u001b[0;34m(\u001b[0m\u001b[0mroot_investopedia_url\u001b[0m\u001b[0;34m)\u001b[0m\u001b[0;34m\u001b[0m\u001b[0;34m\u001b[0m\u001b[0m\n\u001b[0m",
      "\u001b[0;32m<ipython-input-174-3d22cd17accb>\u001b[0m in \u001b[0;36mrun_crawler\u001b[0;34m(root_investopedia_url)\u001b[0m\n\u001b[1;32m     98\u001b[0m     \u001b[0mbrowser\u001b[0m \u001b[0mto\u001b[0m \u001b[0mretrieve\u001b[0m \u001b[0manother\u001b[0m \u001b[0mweb\u001b[0m \u001b[0mpage\u001b[0m\u001b[0;34m.\u001b[0m\u001b[0;34m\u001b[0m\u001b[0;34m\u001b[0m\u001b[0m\n\u001b[1;32m     99\u001b[0m     \"\"\"\n\u001b[0;32m--> 100\u001b[0;31m     \u001b[0mlist_all_urls\u001b[0m \u001b[0;34m=\u001b[0m \u001b[0mget_all_article_urls\u001b[0m\u001b[0;34m(\u001b[0m\u001b[0mroot_investopedia_url\u001b[0m\u001b[0;34m)\u001b[0m\u001b[0;34m\u001b[0m\u001b[0;34m\u001b[0m\u001b[0m\n\u001b[0m\u001b[1;32m    101\u001b[0m \u001b[0;34m\u001b[0m\u001b[0m\n\u001b[1;32m    102\u001b[0m     \u001b[0;32mreturn\u001b[0m \u001b[0mmatrix_representation_of_article_graph\u001b[0m\u001b[0;34m\u001b[0m\u001b[0;34m\u001b[0m\u001b[0m\n",
      "\u001b[0;32m<ipython-input-174-3d22cd17accb>\u001b[0m in \u001b[0;36mget_all_article_urls\u001b[0;34m(root_investopdia_url)\u001b[0m\n\u001b[1;32m     74\u001b[0m             \u001b[0;32mfor\u001b[0m \u001b[0mpage_link\u001b[0m \u001b[0;32min\u001b[0m \u001b[0mpage_links\u001b[0m\u001b[0;34m:\u001b[0m\u001b[0;34m\u001b[0m\u001b[0;34m\u001b[0m\u001b[0m\n\u001b[1;32m     75\u001b[0m                 \u001b[0;31m# Open, read links, and close\u001b[0m\u001b[0;34m\u001b[0m\u001b[0;34m\u001b[0m\u001b[0;34m\u001b[0m\u001b[0m\n\u001b[0;32m---> 76\u001b[0;31m                 \u001b[0mopen_link_and_select_window\u001b[0m\u001b[0;34m(\u001b[0m\u001b[0mpage_link\u001b[0m\u001b[0;34m)\u001b[0m\u001b[0;34m\u001b[0m\u001b[0;34m\u001b[0m\u001b[0m\n\u001b[0m\u001b[1;32m     77\u001b[0m                 \u001b[0mlist_all_urls\u001b[0m \u001b[0;34m=\u001b[0m \u001b[0mlist_all_urls\u001b[0m \u001b[0;34m+\u001b[0m \u001b[0mget_all_article_links_from_overview\u001b[0m\u001b[0;34m(\u001b[0m\u001b[0;34m)\u001b[0m\u001b[0;34m\u001b[0m\u001b[0;34m\u001b[0m\u001b[0m\n\u001b[1;32m     78\u001b[0m                 \u001b[0mdriver\u001b[0m\u001b[0;34m.\u001b[0m\u001b[0mexecute_script\u001b[0m\u001b[0;34m(\u001b[0m\u001b[0;34m\"window.close();\"\u001b[0m\u001b[0;34m)\u001b[0m\u001b[0;34m\u001b[0m\u001b[0;34m\u001b[0m\u001b[0m\n",
      "\u001b[0;32m<ipython-input-174-3d22cd17accb>\u001b[0m in \u001b[0;36mopen_link_and_select_window\u001b[0;34m(link)\u001b[0m\n\u001b[1;32m     26\u001b[0m \u001b[0;32mdef\u001b[0m \u001b[0mopen_link_and_select_window\u001b[0m\u001b[0;34m(\u001b[0m\u001b[0mlink\u001b[0m\u001b[0;34m)\u001b[0m\u001b[0;34m:\u001b[0m\u001b[0;34m\u001b[0m\u001b[0;34m\u001b[0m\u001b[0m\n\u001b[1;32m     27\u001b[0m     \u001b[0mtime\u001b[0m\u001b[0;34m.\u001b[0m\u001b[0msleep\u001b[0m\u001b[0;34m(\u001b[0m\u001b[0msleeper_time\u001b[0m\u001b[0;34m)\u001b[0m\u001b[0;34m\u001b[0m\u001b[0;34m\u001b[0m\u001b[0m\n\u001b[0;32m---> 28\u001b[0;31m     \u001b[0mdriver\u001b[0m\u001b[0;34m.\u001b[0m\u001b[0mexecute_script\u001b[0m\u001b[0;34m(\u001b[0m\u001b[0;34m\"window.open('');\"\u001b[0m\u001b[0;34m)\u001b[0m\u001b[0;34m\u001b[0m\u001b[0;34m\u001b[0m\u001b[0m\n\u001b[0m\u001b[1;32m     29\u001b[0m     \u001b[0mdriver\u001b[0m\u001b[0;34m.\u001b[0m\u001b[0mswitch_to\u001b[0m\u001b[0;34m.\u001b[0m\u001b[0mwindow\u001b[0m\u001b[0;34m(\u001b[0m\u001b[0mdriver\u001b[0m\u001b[0;34m.\u001b[0m\u001b[0mwindow_handles\u001b[0m\u001b[0;34m[\u001b[0m\u001b[0;34m-\u001b[0m\u001b[0;36m1\u001b[0m\u001b[0;34m]\u001b[0m\u001b[0;34m)\u001b[0m\u001b[0;34m\u001b[0m\u001b[0;34m\u001b[0m\u001b[0m\n\u001b[1;32m     30\u001b[0m     \u001b[0mdriver\u001b[0m\u001b[0;34m.\u001b[0m\u001b[0mget\u001b[0m\u001b[0;34m(\u001b[0m\u001b[0mlink\u001b[0m\u001b[0;34m)\u001b[0m\u001b[0;34m\u001b[0m\u001b[0;34m\u001b[0m\u001b[0m\n",
      "\u001b[0;32m~/anaconda3/lib/python3.7/site-packages/selenium/webdriver/remote/webdriver.py\u001b[0m in \u001b[0;36mexecute_script\u001b[0;34m(self, script, *args)\u001b[0m\n\u001b[1;32m    634\u001b[0m         return self.execute(command, {\n\u001b[1;32m    635\u001b[0m             \u001b[0;34m'script'\u001b[0m\u001b[0;34m:\u001b[0m \u001b[0mscript\u001b[0m\u001b[0;34m,\u001b[0m\u001b[0;34m\u001b[0m\u001b[0;34m\u001b[0m\u001b[0m\n\u001b[0;32m--> 636\u001b[0;31m             'args': converted_args})['value']\n\u001b[0m\u001b[1;32m    637\u001b[0m \u001b[0;34m\u001b[0m\u001b[0m\n\u001b[1;32m    638\u001b[0m     \u001b[0;32mdef\u001b[0m \u001b[0mexecute_async_script\u001b[0m\u001b[0;34m(\u001b[0m\u001b[0mself\u001b[0m\u001b[0;34m,\u001b[0m \u001b[0mscript\u001b[0m\u001b[0;34m,\u001b[0m \u001b[0;34m*\u001b[0m\u001b[0margs\u001b[0m\u001b[0;34m)\u001b[0m\u001b[0;34m:\u001b[0m\u001b[0;34m\u001b[0m\u001b[0;34m\u001b[0m\u001b[0m\n",
      "\u001b[0;32m~/anaconda3/lib/python3.7/site-packages/selenium/webdriver/remote/webdriver.py\u001b[0m in \u001b[0;36mexecute\u001b[0;34m(self, driver_command, params)\u001b[0m\n\u001b[1;32m    319\u001b[0m         \u001b[0mresponse\u001b[0m \u001b[0;34m=\u001b[0m \u001b[0mself\u001b[0m\u001b[0;34m.\u001b[0m\u001b[0mcommand_executor\u001b[0m\u001b[0;34m.\u001b[0m\u001b[0mexecute\u001b[0m\u001b[0;34m(\u001b[0m\u001b[0mdriver_command\u001b[0m\u001b[0;34m,\u001b[0m \u001b[0mparams\u001b[0m\u001b[0;34m)\u001b[0m\u001b[0;34m\u001b[0m\u001b[0;34m\u001b[0m\u001b[0m\n\u001b[1;32m    320\u001b[0m         \u001b[0;32mif\u001b[0m \u001b[0mresponse\u001b[0m\u001b[0;34m:\u001b[0m\u001b[0;34m\u001b[0m\u001b[0;34m\u001b[0m\u001b[0m\n\u001b[0;32m--> 321\u001b[0;31m             \u001b[0mself\u001b[0m\u001b[0;34m.\u001b[0m\u001b[0merror_handler\u001b[0m\u001b[0;34m.\u001b[0m\u001b[0mcheck_response\u001b[0m\u001b[0;34m(\u001b[0m\u001b[0mresponse\u001b[0m\u001b[0;34m)\u001b[0m\u001b[0;34m\u001b[0m\u001b[0;34m\u001b[0m\u001b[0m\n\u001b[0m\u001b[1;32m    322\u001b[0m             response['value'] = self._unwrap_value(\n\u001b[1;32m    323\u001b[0m                 response.get('value', None))\n",
      "\u001b[0;32m~/anaconda3/lib/python3.7/site-packages/selenium/webdriver/remote/errorhandler.py\u001b[0m in \u001b[0;36mcheck_response\u001b[0;34m(self, response)\u001b[0m\n\u001b[1;32m    240\u001b[0m                 \u001b[0malert_text\u001b[0m \u001b[0;34m=\u001b[0m \u001b[0mvalue\u001b[0m\u001b[0;34m[\u001b[0m\u001b[0;34m'alert'\u001b[0m\u001b[0;34m]\u001b[0m\u001b[0;34m.\u001b[0m\u001b[0mget\u001b[0m\u001b[0;34m(\u001b[0m\u001b[0;34m'text'\u001b[0m\u001b[0;34m)\u001b[0m\u001b[0;34m\u001b[0m\u001b[0;34m\u001b[0m\u001b[0m\n\u001b[1;32m    241\u001b[0m             \u001b[0;32mraise\u001b[0m \u001b[0mexception_class\u001b[0m\u001b[0;34m(\u001b[0m\u001b[0mmessage\u001b[0m\u001b[0;34m,\u001b[0m \u001b[0mscreen\u001b[0m\u001b[0;34m,\u001b[0m \u001b[0mstacktrace\u001b[0m\u001b[0;34m,\u001b[0m \u001b[0malert_text\u001b[0m\u001b[0;34m)\u001b[0m\u001b[0;34m\u001b[0m\u001b[0;34m\u001b[0m\u001b[0m\n\u001b[0;32m--> 242\u001b[0;31m         \u001b[0;32mraise\u001b[0m \u001b[0mexception_class\u001b[0m\u001b[0;34m(\u001b[0m\u001b[0mmessage\u001b[0m\u001b[0;34m,\u001b[0m \u001b[0mscreen\u001b[0m\u001b[0;34m,\u001b[0m \u001b[0mstacktrace\u001b[0m\u001b[0;34m)\u001b[0m\u001b[0;34m\u001b[0m\u001b[0;34m\u001b[0m\u001b[0m\n\u001b[0m\u001b[1;32m    243\u001b[0m \u001b[0;34m\u001b[0m\u001b[0m\n\u001b[1;32m    244\u001b[0m     \u001b[0;32mdef\u001b[0m \u001b[0m_value_or_default\u001b[0m\u001b[0;34m(\u001b[0m\u001b[0mself\u001b[0m\u001b[0;34m,\u001b[0m \u001b[0mobj\u001b[0m\u001b[0;34m,\u001b[0m \u001b[0mkey\u001b[0m\u001b[0;34m,\u001b[0m \u001b[0mdefault\u001b[0m\u001b[0;34m)\u001b[0m\u001b[0;34m:\u001b[0m\u001b[0;34m\u001b[0m\u001b[0;34m\u001b[0m\u001b[0m\n",
      "\u001b[0;31mNoSuchWindowException\u001b[0m: Message: no such window: window was already closed\n  (Session info: chrome=70.0.3538.77)\n  (Driver info: chromedriver=2.45.615279 (12b89733300bd268cff3b78fc76cb8f3a7cc44e5),platform=Linux 4.15.0-43-generic x86_64)\n"
     ]
    }
   ],
   "source": [
    "run_crawler(root_investopedia_url)"
   ]
  },
  {
   "cell_type": "code",
   "execution_count": null,
   "metadata": {},
   "outputs": [],
   "source": []
  }
 ],
 "metadata": {
  "kernelspec": {
   "display_name": "Python 3",
   "language": "python",
   "name": "python3"
  },
  "language_info": {
   "codemirror_mode": {
    "name": "ipython",
    "version": 3
   },
   "file_extension": ".py",
   "mimetype": "text/x-python",
   "name": "python",
   "nbconvert_exporter": "python",
   "pygments_lexer": "ipython3",
   "version": "3.7.3"
  }
 },
 "nbformat": 4,
 "nbformat_minor": 2
}
