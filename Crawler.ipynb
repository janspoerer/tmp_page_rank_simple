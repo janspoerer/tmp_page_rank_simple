{
 "cells": [
  {
   "cell_type": "markdown",
   "metadata": {},
   "source": [
    "This Notebook crawls all Investopedia articles and returns a matrix representation of the link relationships between articles. This matrix will be used for the PageRank in another Notebook.\n",
    "\n",
    "Input: The root domain of the Investopedia web page. The input stays the same and will not be user-defined. Other pages that Investopedia will most likely not work with this crawler as this crawler is specifically designed for Investopedia articles.\n",
    "\n",
    "Output: A matrix prepresentation of a graph network (with only 0s and 1). The graph represents the relationships between Investopedia articles. All relationships are one-way relationships. A relationship from article A to article B is defined as A having a link that leads to article B."
   ]
  },
  {
   "cell_type": "code",
   "execution_count": null,
   "metadata": {},
   "outputs": [],
   "source": [
    "def map_and_write_link_to_matrix_position(link, matrix):\n",
    "    pass \n",
    "    return matrix\n",
    "\n",
    "def get_all_link_from_article():\n",
    "    pass\n",
    "\n",
    "def open_article(article_link):\n",
    "    pass\n",
    "\n",
    "\n",
    "    \n",
    "def get_all_links\n",
    "\n",
    "\n",
    "def run_crawler(root_domain):\n",
    "    pass\n",
    "    return matrix_representation_of_article_graph\n",
    "    \n",
    "\n",
    "\n",
    "    "
   ]
  }
 ],
 "metadata": {
  "kernelspec": {
   "display_name": "Python 3",
   "language": "python",
   "name": "python3"
  },
  "language_info": {
   "codemirror_mode": {
    "name": "ipython",
    "version": 3
   },
   "file_extension": ".py",
   "mimetype": "text/x-python",
   "name": "python",
   "nbconvert_exporter": "python",
   "pygments_lexer": "ipython3",
   "version": "3.7.3"
  }
 },
 "nbformat": 4,
 "nbformat_minor": 2
}
